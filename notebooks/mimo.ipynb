{
 "cells": [
  {
   "cell_type": "markdown",
   "metadata": {},
   "source": [
    "# Multi-Input Multi-Output (MIMO)"
   ]
  },
  {
   "cell_type": "code",
   "execution_count": null,
   "metadata": {},
   "outputs": [],
   "source": [
    "#%pylab inline # to show plots within notebook"
   ]
  },
  {
   "cell_type": "code",
   "execution_count": null,
   "metadata": {},
   "outputs": [],
   "source": [
    "\"\"\"\n",
    "Multi-Input Multi-Output (MIMO) Channels\n",
    "Single User\n",
    "\n",
    "@author: Hassan Ghozlan\n",
    "\"\"\"\n",
    "\n",
    "from __future__ import division #makes float division default. for integer division, use //. e.g. 7//4=1\n",
    "\n",
    "import matplotlib\n",
    "#matplotlib.use('Agg') # force matplotlib to not use any Xwindows backend.\n",
    "# fixes the error \"no display name and no $DISPLAY environment variable\"\n",
    "# when code is run on Amazon Elastic Cloud Compute (EC2)\n",
    "\n",
    "from numpy import *\n",
    "from matplotlib.pyplot import *\n",
    "from numpy.fft import ifft, fftshift, fft\n",
    "from numpy.linalg import svd\n",
    "from numpy.linalg import eigvalsh #eigvalsh : eigenvalues of a symmetric or Hermitian (conjugate symmetric)\n",
    "\n",
    "from numpy.random import randint, standard_normal\n",
    "from numpy.linalg import det\n",
    "from numpy.linalg import inv # inverse\n",
    "from numpy.linalg import pinv # psuedo-inverse"
   ]
  },
  {
   "cell_type": "markdown",
   "metadata": {},
   "source": [
    "# MIMO Channel (Single User)"
   ]
  },
  {
   "cell_type": "markdown",
   "metadata": {},
   "source": [
    "$$\n",
    "\\newcommand{\\x}{\\textbf{x}}\n",
    "\\newcommand{\\y}{\\textbf{y}}\n",
    "\\newcommand{\\GM}{\\textbf{G}}\n",
    "\\newcommand{\\HM}{\\textbf{H}}\n",
    "\\newcommand{\\rv}{\\textbf{r}}\n",
    "\\newcommand{\\n}{\\textbf{n}}\n",
    "\\newcommand{\\z}{\\textbf{z}}\n",
    "\\newcommand{\\g}{\\textbf{g}}\n",
    "$$\n",
    "\n",
    "\n",
    "The received signal is\n",
    "$$ \\rv = \\HM \\x + \\n $$\n",
    "\n",
    "where $\\HM$ is $n_r \\times n_t$. \n",
    "Suppose $n_r = n_t$."
   ]
  },
  {
   "cell_type": "markdown",
   "metadata": {},
   "source": [
    "# Optimal Receiver"
   ]
  },
  {
   "cell_type": "markdown",
   "metadata": {},
   "source": [
    "Let $\\y = \\rv$. \n",
    "The information rate of the **optimal** receiver is\n",
    "$$ R_{\\text{opt}} = I(\\x;\\y) = \\log(\\det(\\Sigma_r)) - \\log(\\det(\\Sigma_{r|x})) $$\n",
    "where\n",
    "$$ \\Sigma_r = \\HM \\Sigma_x \\HM^\\dagger + \\Sigma_n $$\n",
    "and\n",
    "$$ \\Sigma_{r|x} = \\Sigma_n $$"
   ]
  },
  {
   "cell_type": "markdown",
   "metadata": {},
   "source": [
    "Note that\n",
    "\n",
    "$$\\log(\\det(\\Sigma)) = \\log(\\prod_i \\lambda_i) = \\sum_i \\log\\lambda_i$$\n",
    "\n",
    "where $\\{\\lambda_i\\}$ are the eigenvalues of $\\Sigma$\n",
    "\n",
    "Computing the sum of the log of the eigenvalues would be more stable numerically than computing the log of the determinant."
   ]
  },
  {
   "cell_type": "code",
   "execution_count": null,
   "metadata": {},
   "outputs": [],
   "source": [
    "def info_rate_opt(H,Sigma_Z):\n",
    "    Sigma_Y = ( H.dot(H.conj().transpose()) + Sigma_Z )\n",
    "    Sigma_Y_X = ( Sigma_Z )\n",
    "    #R = log(det( Sigma_Y )) -  log(det( Sigma_Y_X ))\n",
    "    R = sum(log(eigvalsh(Sigma_Y))) - sum(log(eigvalsh(Sigma_Y_X)))    \n",
    "    return real(R)"
   ]
  },
  {
   "cell_type": "markdown",
   "metadata": {},
   "source": [
    "# Linear Receiver"
   ]
  },
  {
   "cell_type": "markdown",
   "metadata": {},
   "source": [
    "Consider a linear receiver. The processed received signal is\n",
    "$$\n",
    "\\begin{align}\n",
    "\\y \n",
    "&= \\GM \\rv \\\\\n",
    "&= \\GM (\\HM \\x + \\n) \n",
    "\\end{align}\n",
    "$$\n",
    "\n",
    "The information rate is\n",
    "$$\n",
    "R_{\\text{linear}} = \\sum_{k=1}^{K} I(x_{k}; y_{k})\n",
    "$$\n",
    "We have\n",
    "$$\n",
    "I(x_k; y_k) = [ \\log\\det(\\Sigma_{y,k}) - \\log\\det(\\Sigma_{y|x,k})]\n",
    "$$\n",
    "\n",
    "where the covariance matrices are given by\n",
    "$$\n",
    "\\begin{align}\n",
    "\\Sigma_{y,k} &= \\GM_k (\\HM \\Sigma_{x} \\HM^\\dagger + \\Sigma_{n,k}) \\GM^\\dagger_k \\\\\n",
    "\\Sigma_{y|x,k} &= \\GM_k (\\HM \\bar{\\Sigma}_{x,k} \\HM^\\dagger + \\Sigma_{n,k}) \\GM^\\dagger_k \\\\\n",
    "\\end{align}\n",
    "$$\n",
    "where\n",
    "$\\bar{\\Sigma}_{x,k}$ is the same as $\\Sigma_{x}$ except that the entries involving symbol $x_k$ are set to $0$.\n"
   ]
  },
  {
   "cell_type": "markdown",
   "metadata": {},
   "source": [
    "Remark\n",
    "\n",
    "$$\n",
    "I(\\x;\\y) = I(x_{1},\\ldots,x_{K}; y_{1},\\ldots,y_{K}) \\geq \\sum_{k=1}^{K} I(x_{k}; y_{k})\n",
    "$$"
   ]
  },
  {
   "cell_type": "code",
   "execution_count": null,
   "metadata": {},
   "outputs": [],
   "source": [
    "def info_rate(G_RX,H,Sigma_Z):\n",
    "    m, n = H.shape\n",
    "    R_total = array(0)\n",
    "    for i in range(n):\n",
    "        G = G_RX[i,:].reshape((1,m))\n",
    "        #W = zeros((1,m)); W[0,i] = 1; G = W.dot(G_RX) # alternative\n",
    "\n",
    "        Sigma_X = identity(n)\n",
    "        Sigma_Y = G.dot( \n",
    "        H.dot(Sigma_X).dot(H.conj().transpose()) + Sigma_Z \n",
    "        ).dot( G.conj().transpose() ) \n",
    "        \n",
    "        Sigma_X_bar = Sigma_X\n",
    "        Sigma_X_bar[i,i] = 0\n",
    "        Sigma_Y_X = G.dot( \n",
    "        H.dot(Sigma_X_bar).dot(H.conj().transpose()) + Sigma_Z \n",
    "        ).dot( G.conj().transpose() ) \n",
    "\n",
    "        H_Y = sum(log(eigvalsh(Sigma_Y)))\n",
    "        H_Y_X = sum(log(eigvalsh(Sigma_Y_X)))\n",
    "        R = H_Y - H_Y_X    \n",
    "\n",
    "        R_total = R_total + R\n",
    "    return real(R_total)"
   ]
  },
  {
   "cell_type": "markdown",
   "metadata": {},
   "source": [
    "* Minimum Mean Square Error (MMSE)\n",
    "$$\n",
    "\\GM = \\Sigma_x \\HM^\\dagger (\\HM \\Sigma_x \\HM^\\dagger + \\Sigma_z)^{-1}\n",
    "$$\n",
    "* Zero-Forcing (ZF)\n",
    "$$\n",
    "\\GM = \\HM^{-1}\n",
    "$$\n",
    "* Matched Filter (MF)\n",
    "$$\n",
    "\\GM = \\HM^\\dagger\n",
    "$$"
   ]
  },
  {
   "cell_type": "code",
   "execution_count": null,
   "metadata": {},
   "outputs": [],
   "source": [
    "def rx_matrix(RX,H,Sigma_Z):\n",
    "    if RX in ['MF']:\n",
    "        G = H.conj().transpose()\n",
    "    elif RX in ['ZF']:\n",
    "        G = inv(H)  \n",
    "    elif RX in ['MMSE']:\n",
    "        G = (H.conj().transpose()).dot(inv(\n",
    "        H.dot(H.conj().transpose()) + \n",
    "        Sigma_Z))\n",
    "    elif RX == 'OPT':\n",
    "        G = identity(H.shape[0])\n",
    "    else:\n",
    "        print \"warning: unkown rx \" + RX\n",
    "        G = identity(H.shape[0])\n",
    "    return G"
   ]
  },
  {
   "cell_type": "markdown",
   "metadata": {},
   "source": [
    "Wrapper function"
   ]
  },
  {
   "cell_type": "code",
   "execution_count": null,
   "metadata": {},
   "outputs": [],
   "source": [
    "def info_rate_rx_basic(comsys,rx='OPT'):\n",
    "    H = comsys['H']\n",
    "    Sigma_Z = comsys['Sigma_Z']\n",
    "    if rx is 'OPT': \n",
    "        rate = info_rate_opt(H,Sigma_Z)\n",
    "    elif rx in ['MF','ZF','MMSE']:\n",
    "        G_RX = comsys['G_RX']\n",
    "        rate = info_rate(G_RX,H,Sigma_Z)\n",
    "    else:\n",
    "        rate = nan\n",
    "    return rate"
   ]
  },
  {
   "cell_type": "markdown",
   "metadata": {},
   "source": [
    "# Generalized framework"
   ]
  },
  {
   "cell_type": "markdown",
   "metadata": {},
   "source": [
    "Define here a function to calculate the mutual information between\n",
    "$\\{x_{i}:i \\in \\mathcal{I}\\}$ and $\\{y_{j}:j \\in \\mathcal{J}\\}$ \n",
    "conditioned on $\\{x_{\\ell}:\\ell \\in \\mathcal{L}\\}$, \n",
    "i.e.\n",
    "$$ I( \\{x_{i}:i \\in \\mathcal{I}\\} ; \\{y_{j}:j \\in \\mathcal{J}\\} | \\{x_{\\ell}:\\ell \\in \\mathcal{L}\\}$$\n",
    "\n",
    "I will use the shorthand notation\n",
    "$$ I( x_\\mathcal{I} ; y_\\mathcal{J} | x_\\mathcal{L} )$$"
   ]
  },
  {
   "cell_type": "code",
   "execution_count": null,
   "metadata": {},
   "outputs": [],
   "source": [
    "def mutual_info(comsys,x_idx,y_idx,given_x_idx,debug_level=0):\n",
    "    # unpack\n",
    "    H = comsys['H']\n",
    "    Sigma_Z = comsys['Sigma_Z']\n",
    "    \n",
    "    if comsys.has_key('G_RX'):\n",
    "        G_RX = comsys['G_RX']\n",
    "    else:\n",
    "        G_RX = identity(H.shape[0])\n",
    "    \n",
    "    m, n = H.shape\n",
    "\n",
    "    S = zeros((m,m)); S[y_idx,y_idx] = 1;\n",
    "    G = S.dot(G_RX)\n",
    "    #G = zeros((1,m)); G[0,y_idx] = 1;\n",
    "    #print G\n",
    "\n",
    "    Sigma_X = identity(n)\n",
    "\n",
    "    Sigma_X[given_x_idx,given_x_idx] = 0\n",
    "    Sigma_Y = G.dot( \n",
    "    H.dot(Sigma_X).dot(H.conj().transpose()) + Sigma_Z \n",
    "    ).dot( G.conj().transpose() ) \n",
    "\n",
    "    Sigma_X_bar = Sigma_X.copy()\n",
    "    #Sigma_X_bar = copy(Sigma_X)\n",
    "    Sigma_X_bar[x_idx,x_idx] = 0\n",
    "    Sigma_Y_X = G.dot( \n",
    "    H.dot(Sigma_X_bar).dot(H.conj().transpose()) + Sigma_Z \n",
    "    ).dot( G.conj().transpose() ) \n",
    "\n",
    "    #eigenvalues\n",
    "    eigvals_Y = eigvalsh(Sigma_Y)\n",
    "    eigvals_Y_X = eigvalsh(Sigma_Y_X)\n",
    "    \n",
    "    if debug_level>0:\n",
    "        print \"h(Y): \", \n",
    "        print eigvals_Y\n",
    "        print \"h(Y|X): \", \n",
    "        print eigvals_Y_X\n",
    "    \n",
    "    #num of nonzero eigenvalues\n",
    "    n_eigvals = min([len(x_idx),len(y_idx)])\n",
    "    \n",
    "    #sum nonzero eigenvalues\n",
    "    H_Y = sum(log(eigvals_Y[-n_eigvals:]))\n",
    "    H_Y_X = sum(log(eigvals_Y_X[-n_eigvals:]))\n",
    "    R = H_Y - H_Y_X    \n",
    "\n",
    "    return real(R)\n"
   ]
  },
  {
   "cell_type": "markdown",
   "metadata": {},
   "source": [
    "Depending on the receiver, the processing is partitioned or divided which can be expressed in terms of \n",
    "$\\mathcal{I}_k$, $\\mathcal{J}_k$, $\\mathcal{L}_k$\n",
    "so that the rate is \n",
    "$$ R = \\sum_k I \\left( x_{\\mathcal{I}_k} ; y_{\\mathcal{J}_k} | x_{\\mathcal{L}_k} \\right)$$\n",
    "\n",
    "For example: \n",
    "\n",
    "For linear receiver (MF, ZF, MMSE):\n",
    "$\\mathcal{I}_k = \\{k\\}$, $\\mathcal{J}_k = \\{k\\}$, $\\mathcal{L}_k = \\emptyset$\n"
   ]
  },
  {
   "cell_type": "code",
   "execution_count": null,
   "metadata": {},
   "outputs": [],
   "source": [
    "def get_proc_partition(comsys,rx='OPT',proc_order=[]):\n",
    "    \"\"\"\n",
    "    return processing partition for the given receiver type.\n",
    "    for successive interference cancellation receivers, \n",
    "    the processing/decoding order is according to proc_order\n",
    "    \"\"\"\n",
    "    m, n = comsys['H'].shape\n",
    "    proc_partition = []\n",
    "    if rx is 'OPT':\n",
    "        proc_partition = [ {'x_idx':range(n),'y_idx':range(n),'given_x_idx':[]} ]\n",
    "    elif rx in ['MF','ZF','MMSE']:\n",
    "        proc_partition = list()\n",
    "        for i in range(n):\n",
    "            dd = {'x_idx':[i],'y_idx':[i],'given_x_idx':[]}\n",
    "            proc_partition.append(dd)\n",
    "            ##print dd\n",
    "    elif rx in ['MF_SIC','ZF_SIC','MMSE_SIC']:\n",
    "        #import itertools\n",
    "        #for perm in itertools.permutations(range(min(H.shape))): proc_order=list(perm)\n",
    "        proc_partition = list()\n",
    "        for i in range(len(proc_order)):\n",
    "            dd = {'x_idx':[proc_order[i]],'y_idx':[proc_order[i]],'given_x_idx':proc_order[0:i]}\n",
    "            proc_partition.append(dd)\n",
    "    return proc_partition\n",
    "\n",
    "def info_rate_for_proc_partition(comsys,proc_partition=[]):\n",
    "    \"\"\"\n",
    "    return information rate for the given processing partition\n",
    "    \"\"\"\n",
    "    if len(proc_partition) is 0: return nan\n",
    "    partial_rates = list()\n",
    "    for step in proc_partition:\n",
    "        R = mutual_info(comsys,x_idx=step['x_idx'],y_idx=step['y_idx'],given_x_idx=step['given_x_idx'])\n",
    "        partial_rates.append(R)\n",
    "    #print partial_rates\n",
    "    R_sum = sum(partial_rates)\n",
    "    return R_sum \n",
    "\n",
    "def info_rate_nosic(comsys,rx='OPT'):\n",
    "    \"\"\"\n",
    "    return information rate for the given receiver type,\n",
    "    but does not suppot successive interference cancellation\n",
    "    \"\"\"\n",
    "    proc_partition = get_proc_partition(comsys=comsys,rx=rx)\n",
    "    R = info_rate_for_proc_partition(comsys,proc_partition)\n",
    "    return R"
   ]
  },
  {
   "cell_type": "code",
   "execution_count": null,
   "metadata": {},
   "outputs": [],
   "source": [
    "def info_rate_rx(comsys,rx='OPT'):\n",
    "    if rx in ['OPT','MF','ZF','MMSE']:\n",
    "        rate = info_rate_nosic(comsys,rx=rx)\n",
    "    elif 'SIC' in rx:\n",
    "        rate = info_rate_sic(comsys,rx=rx)\n",
    "    else:\n",
    "        rate = nan\n",
    "    return rate\n"
   ]
  },
  {
   "cell_type": "code",
   "execution_count": null,
   "metadata": {},
   "outputs": [],
   "source": [
    "# may be helpful in debugging and comparing\n",
    "\n",
    "def info_rate_joint(comsys):\n",
    "    R_total = array(0)\n",
    "    m, n = comsys['H'].shape\n",
    "    R = mutual_info(comsys,x_idx=range(n),y_idx=range(n),given_x_idx=[])\n",
    "    R_total = R_total + R\n",
    "    return real(R_total)\n",
    "\n",
    "def info_rate_indiv(comsys,dec_order=[]):\n",
    "    R_total = array(0)\n",
    "    m, n = comsys['H'].shape\n",
    "    if len(dec_order) is 0: dec_order = range(n);\n",
    "    for i in range(n):\n",
    "        R = mutual_info(comsys,x_idx=[i],y_idx=[i],given_x_idx=[])\n",
    "        #print \"I(x_%d,y_%d) = %f\" % (i,i,R)\n",
    "        R_total = R_total + R\n",
    "    return real(R_total)\n",
    "\n",
    "def info_rate_rx_(comsys,rx='OPT'):\n",
    "    if rx is 'OPT': \n",
    "        rate = info_rate_joint(comsys)\n",
    "    elif rx in ['MF','ZF','MMSE']:\n",
    "        rate = info_rate_indiv(comsys)\n",
    "    elif 'SIC' in rx:\n",
    "        G_RX = comsys['G_RX']\n",
    "        H = comsys['H']\n",
    "        Sigma_Z = comsys['Sigma_Z']\n",
    "        import itertools\n",
    "        info_rate_list = [info_rate_sic2(G_RX,H,Sigma_Z,dec_order=perm) \\\n",
    "                          for perm in itertools.permutations(range(min(H.shape)))]        \n",
    "        rate = max(info_rate_list)\n",
    "    else:\n",
    "        rate = nan\n",
    "    return rate"
   ]
  },
  {
   "cell_type": "markdown",
   "metadata": {},
   "source": [
    "# Simulation"
   ]
  },
  {
   "cell_type": "code",
   "execution_count": null,
   "metadata": {},
   "outputs": [],
   "source": [
    "# Generate a Rayleigh random variable (mean=0, variance=1)\n",
    "def rayleigh(m,n):\n",
    "    return sqrt(1/2) * (standard_normal((m,n)) + 1j * standard_normal((m,n)))"
   ]
  },
  {
   "cell_type": "code",
   "execution_count": null,
   "metadata": {},
   "outputs": [],
   "source": [
    "np.random.seed(seed=10) # use clock time if seed=None\n",
    "NN = 3\n",
    "H = rayleigh(NN,NN)"
   ]
  },
  {
   "cell_type": "code",
   "execution_count": null,
   "metadata": {},
   "outputs": [],
   "source": [
    "SNR_dB = arange(-2,25,0.5)\n",
    "\n",
    "R_ZEROS = zeros( len(SNR_dB) )\n",
    "#RX_LIST = ['OPT','MMSE','ZF','MF']\n",
    "RX_LIST = ['MMSE','ZF','MF']\n",
    "RX = dict()\n",
    "for rx in ['OPT']+RX_LIST: \n",
    "    RX[rx] = array(R_ZEROS)\n",
    "\n",
    "for snr_index in range(len(SNR_dB)):\n",
    "    #print \"SNR = \" + str(SNR_dB[snr_index]) + \" dB\"\n",
    "    SNR = 10**(SNR_dB[snr_index]/10)    #signal to noise ratio (linear)        \n",
    "    sigma2 = 1.0/SNR            #noise variance\n",
    "\n",
    "    Sigma_Z = sigma2 * identity(NN)\n",
    "\n",
    "    R = info_rate_opt(H,Sigma_Z)\n",
    "    RX['OPT'][snr_index] = R\n",
    "    #print 'R = %.2f' %(R)\n",
    "    \n",
    "    for rx in RX_LIST:\n",
    "        G_RX = rx_matrix(rx,H,Sigma_Z)\n",
    "        R = info_rate(G_RX,H,Sigma_Z)\n",
    "        RX[rx][snr_index] = R\n",
    "        #print 'R = %.2f' %(R)\n"
   ]
  },
  {
   "cell_type": "code",
   "execution_count": null,
   "metadata": {},
   "outputs": [],
   "source": [
    "# Plot\n",
    "SNR = 10**(SNR_dB/10)\n",
    "R_SHANNON = log(1+SNR)\n",
    "line_style = {'OPT':'-','MMSE':'.-','ZF':'x-','MF':'+-'}\n",
    "for rx in ['OPT'] + RX_LIST:\n",
    "    plot(SNR_dB,RX[rx],line_style[rx],label=rx)\n",
    "xlabel('SNR (dB)')\n",
    "ylabel('Rate (nats/symbol)')\n",
    "legend(loc='upper left')"
   ]
  },
  {
   "cell_type": "code",
   "execution_count": null,
   "metadata": {},
   "outputs": [],
   "source": [
    "import pandas as pd\n",
    "df = pd.DataFrame(RX)\n",
    "df['SNR_dB'] = SNR_dB\n",
    "df.set_index([\"SNR_dB\"],inplace=True)\n",
    "print df.head(10)\n",
    "df.plot()\n",
    "df1=df"
   ]
  },
  {
   "cell_type": "markdown",
   "metadata": {},
   "source": [
    "## Semi-generic implementation"
   ]
  },
  {
   "cell_type": "code",
   "execution_count": null,
   "metadata": {},
   "outputs": [],
   "source": [
    "#sim = dict()\n",
    "#sim['SNR_dB'] = SNR_dB\n",
    "#sim['RX_LIST'] = ['OPT','MMSE','ZF','MF']\n",
    "#sim['info_rate_func'] = info_rate_rx\n",
    "\n",
    "def run_sim(sim):\n",
    "    info_rate_func = sim['info_rate_func']\n",
    "    \n",
    "    #SNR_dB = arange(-2,25,0.5)\n",
    "    SNR_dB = sim['SNR_dB']\n",
    "\n",
    "    R_ZEROS = zeros( len(SNR_dB) )\n",
    "    #RX_LIST = ['OPT','MMSE','ZF','MF']\n",
    "    RX_LIST = sim['RX_LIST']\n",
    "    RX = {rx:array(R_ZEROS) for rx in RX_LIST}\n",
    "\n",
    "    for snr_index in range(len(SNR_dB)):\n",
    "        #print \"SNR = \" + str(SNR_dB[snr_index]) + \" dB\"\n",
    "        SNR = 10**(SNR_dB[snr_index]/10)    #signal to noise ratio (linear)        \n",
    "        sigma2 = 1.0/SNR            #noise variance\n",
    "\n",
    "        Sigma_Z = sigma2 * identity(NN)\n",
    "\n",
    "        # create communication system\n",
    "        comsys = {'H':H,'Sigma_Z':Sigma_Z}\n",
    "\n",
    "        # compute info rates for differnt receivers\n",
    "        comsys_ = dict(comsys)\n",
    "        for rx in RX_LIST:\n",
    "            # compute receiver matrix \n",
    "            G_RX = rx_matrix(rx,H,Sigma_Z)\n",
    "            #print rx\n",
    "            #print G_RX\n",
    "            #comsys_['H'] = G_RX.dot(comsys['H']) # WRONG, bec G_RX has be applied to noise too\n",
    "            comsys_['G_RX'] = G_RX\n",
    "            R = info_rate_func(comsys=comsys_,rx=rx)\n",
    "            RX[rx][snr_index] = R\n",
    "            #print 'R = %.2f' %(R)\n",
    "    \n",
    "    return RX\n"
   ]
  },
  {
   "cell_type": "code",
   "execution_count": null,
   "metadata": {},
   "outputs": [],
   "source": [
    "sim = dict()\n",
    "sim['SNR_dB'] = SNR_dB\n",
    "sim['RX_LIST'] = ['OPT','MMSE','ZF','MF']\n",
    "sim['info_rate_func'] = info_rate_rx\n",
    "RX = run_sim(sim)"
   ]
  },
  {
   "cell_type": "code",
   "execution_count": null,
   "metadata": {},
   "outputs": [],
   "source": [
    "import pandas as pd\n",
    "df = pd.DataFrame(RX)\n",
    "df['SNR_dB'] = SNR_dB\n",
    "df.set_index([\"SNR_dB\"],inplace=True)\n",
    "print df.head(10)\n",
    "df.plot()\n",
    "df2=df"
   ]
  },
  {
   "cell_type": "markdown",
   "metadata": {},
   "source": [
    "## Compare both implementations"
   ]
  },
  {
   "cell_type": "code",
   "execution_count": null,
   "metadata": {},
   "outputs": [],
   "source": [
    "for key in RX_LIST:\n",
    "    pd.DataFrame.join(df1[[key]],df2[[key]],lsuffix='_basic',rsuffix='_generic').plot()"
   ]
  },
  {
   "cell_type": "code",
   "execution_count": null,
   "metadata": {},
   "outputs": [],
   "source": [
    "pd.DataFrame.join(df1,df2,lsuffix='_basic',rsuffix='_generic').plot()"
   ]
  }
 ],
 "metadata": {
  "kernelspec": {
   "display_name": "Python 2",
   "language": "python",
   "name": "python2"
  },
  "language_info": {
   "codemirror_mode": {
    "name": "ipython",
    "version": 2
   },
   "file_extension": ".py",
   "mimetype": "text/x-python",
   "name": "python",
   "nbconvert_exporter": "python",
   "pygments_lexer": "ipython2",
   "version": "2.7.15"
  }
 },
 "nbformat": 4,
 "nbformat_minor": 1
}
