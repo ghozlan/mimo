{
 "cells": [
  {
   "cell_type": "markdown",
   "metadata": {},
   "source": [
    "# Multi-Input Multi-Output (MIMO)"
   ]
  },
  {
   "cell_type": "code",
   "execution_count": null,
   "metadata": {},
   "outputs": [],
   "source": [
    "%pylab inline # to show plots within notebook"
   ]
  },
  {
   "cell_type": "code",
   "execution_count": null,
   "metadata": {},
   "outputs": [],
   "source": [
    "\"\"\"\n",
    "Multi-Input Multi-Output (MIMO) Channels\n",
    "Single User\n",
    "\n",
    "@author: Hassan Ghozlan\n",
    "\"\"\"\n",
    "\n",
    "from __future__ import division #makes float division default. for integer division, use //. e.g. 7//4=1\n",
    "\n",
    "import matplotlib\n",
    "#matplotlib.use('Agg') # force matplotlib to not use any Xwindows backend.\n",
    "# fixes the error \"no display name and no $DISPLAY environment variable\"\n",
    "# when code is run on Amazon Elastic Cloud Compute (EC2)\n",
    "\n",
    "from numpy import *\n",
    "from matplotlib.pyplot import *\n",
    "from numpy.fft import ifft, fftshift, fft\n",
    "from numpy.linalg import svd\n",
    "from numpy.linalg import eigvalsh #eigvalsh : eigenvalues of a symmetric or Hermitian (conjugate symmetric)\n",
    "\n",
    "from numpy.random import randint, standard_normal\n",
    "from numpy.linalg import det\n",
    "from numpy.linalg import inv # inverse\n",
    "from numpy.linalg import pinv # psuedo-inverse"
   ]
  },
  {
   "cell_type": "markdown",
   "metadata": {},
   "source": [
    "# MIMO Channel (Single User)"
   ]
  },
  {
   "cell_type": "markdown",
   "metadata": {},
   "source": [
    "$$\n",
    "\\newcommand{\\x}{\\textbf{x}}\n",
    "\\newcommand{\\y}{\\textbf{y}}\n",
    "\\newcommand{\\GM}{\\textbf{G}}\n",
    "\\newcommand{\\HM}{\\textbf{H}}\n",
    "\\newcommand{\\rv}{\\textbf{r}}\n",
    "\\newcommand{\\n}{\\textbf{n}}\n",
    "\\newcommand{\\z}{\\textbf{z}}\n",
    "\\newcommand{\\g}{\\textbf{g}}\n",
    "$$\n",
    "\n",
    "\n",
    "The received signal is\n",
    "$$ \\rv = \\HM \\x + \\n $$"
   ]
  },
  {
   "cell_type": "markdown",
   "metadata": {},
   "source": [
    "# Optimal Receiver"
   ]
  },
  {
   "cell_type": "markdown",
   "metadata": {},
   "source": [
    "The information rate of the **optimal** receiver is\n",
    "$$ R_{\\text{opt}} = \\log(\\det(\\Sigma_r)) - \\log(\\det(\\Sigma_{r|x})) $$\n",
    "where\n",
    "$$ \\Sigma_r = \\HM \\Sigma_x \\HM^\\dagger + \\Sigma_n $$\n",
    "and\n",
    "$$ \\Sigma_{r|x} = \\Sigma_x $$"
   ]
  },
  {
   "cell_type": "code",
   "execution_count": null,
   "metadata": {},
   "outputs": [],
   "source": [
    "def info_rate_opt(H,Sigma_Z):\n",
    "    Sigma_Y = ( H.dot(H.conj().transpose()) + Sigma_Z )\n",
    "    Sigma_Y_X = ( Sigma_Z )\n",
    "    R = log(det( Sigma_Y )) -  log(det( Sigma_Y_X ))\n",
    "    \n",
    "    return real(R)"
   ]
  },
  {
   "cell_type": "markdown",
   "metadata": {},
   "source": [
    "# Linear Receiver"
   ]
  },
  {
   "cell_type": "markdown",
   "metadata": {},
   "source": [
    "Consider a linear receiver. The processed received signal is\n",
    "$$\n",
    "\\begin{align}\n",
    "\\y \n",
    "&= \\GM \\rv \\\\\n",
    "&= \\GM (\\HM \\x + \\n) \n",
    "\\end{align}\n",
    "$$\n",
    "\n",
    "The information rate is\n",
    "$$\n",
    "R_{\\text{linear}} = \\sum_{k=1}^{K} I(\\x_{k}; \\y_{k})\n",
    "$$\n",
    "We have\n",
    "$$\n",
    "I(\\x_k; \\y_k) = [ \\log\\det(\\Sigma_{y,k}) - \\log\\det(\\Sigma_{y|x,k})]\n",
    "$$\n",
    "\n",
    "where the covariance matrices are given by\n",
    "$$\n",
    "\\begin{align}\n",
    "\\Sigma_{y,k} &= \\GM_k (\\HM \\Sigma_{x} \\HM^\\dagger + \\Sigma_{n,k}) \\GM^\\dagger_k \\\\\n",
    "\\Sigma_{y|x,k} &= \\GM_k (\\HM \\bar{\\Sigma}_{x,k} \\HM^\\dagger + \\Sigma_{n,k}) \\GM^\\dagger_k \\\\\n",
    "\\end{align}\n",
    "$$\n",
    "where\n",
    "$\\bar{\\Sigma}_{x,k}$ is the same as $\\Sigma_{x}$ except that the entries involving symbols from **layer?** $k$ are set to $0$.\n"
   ]
  },
  {
   "cell_type": "code",
   "execution_count": null,
   "metadata": {},
   "outputs": [],
   "source": [
    "def info_rate(G_RX,H,Sigma_Z):\n",
    "    m, n = H.shape\n",
    "    R_total = array(0)\n",
    "    for i in range(n):\n",
    "        G = G_RX[i,:].reshape((1,m))\n",
    "\n",
    "        Sigma_X = identity(n)\n",
    "        Sigma_Y = G.dot( \n",
    "        H.dot(Sigma_X).dot(H.conj().transpose()) + Sigma_Z \n",
    "        ).dot( G.conj().transpose() ) \n",
    "        \n",
    "        Sigma_X_bar = Sigma_X\n",
    "        Sigma_X_bar[i,i] = 0\n",
    "        Sigma_Y_X = G.dot( \n",
    "        H.dot(Sigma_X_bar).dot(H.conj().transpose()) + Sigma_Z \n",
    "        ).dot( G.conj().transpose() ) \n",
    "\n",
    "        H_Y = sum(log(eigvalsh(Sigma_Y)))\n",
    "        H_Y_X = sum(log(eigvalsh(Sigma_Y_X)))\n",
    "        R = H_Y - H_Y_X    \n",
    "\n",
    "        R_total = R_total + R\n",
    "    return real(R_total)"
   ]
  },
  {
   "cell_type": "markdown",
   "metadata": {},
   "source": [
    "* Minimum Mean Square Error (MMSE)\n",
    "$$\n",
    "\\GM = \\Sigma_x \\HM^\\dagger (\\HM \\Sigma_x \\HM^\\dagger + \\Sigma_z)^{-1}\n",
    "$$\n",
    "* Zero-Forcing (ZF)\n",
    "$$\n",
    "\\GM = \\HM^{-1}\n",
    "$$\n",
    "* Matched Filter (MF)\n",
    "$$\n",
    "\\GM = \\HM^\\dagger\n",
    "$$"
   ]
  },
  {
   "cell_type": "code",
   "execution_count": null,
   "metadata": {},
   "outputs": [],
   "source": [
    "def rx_matrix(H,RX):\n",
    "    if RX == 'MF':\n",
    "        G = H.conj().transpose()\n",
    "    elif RX == 'ZF':\n",
    "        G = inv(H)  \n",
    "    elif RX == 'MMSE':\n",
    "        G = (H.conj().transpose()).dot(inv(\n",
    "        H.dot(H.conj().transpose()) + \n",
    "        Sigma_Z))\n",
    "    return G"
   ]
  },
  {
   "cell_type": "markdown",
   "metadata": {},
   "source": [
    "# Simulation"
   ]
  },
  {
   "cell_type": "code",
   "execution_count": null,
   "metadata": {},
   "outputs": [],
   "source": [
    "# Generate a Rayleigh random variable (mean=0, variance=1)\n",
    "def rayleigh(m,n):\n",
    "    return sqrt(1/2) * (standard_normal((m,n)) + 1j * standard_normal((m,n)))"
   ]
  },
  {
   "cell_type": "code",
   "execution_count": null,
   "metadata": {},
   "outputs": [],
   "source": [
    "NN = 2    \n",
    "H = rayleigh(NN,NN)\n",
    "SNR_dB = arange(-2,10,0.5)\n",
    "\n",
    "R_ZEROS = zeros( len(SNR_dB) )\n",
    "#RX_LIST = ['OPT','MMSE','ZF','MF']\n",
    "RX_LIST = ['MMSE','ZF','MF']\n",
    "RX = dict()\n",
    "for rx in ['OPT']+RX_LIST: \n",
    "    RX[rx] = array(R_ZEROS)\n",
    "\n",
    "for snr_index in range(len(SNR_dB)):\n",
    "    print \"SNR = \" + str(SNR_dB[snr_index]) + \" dB\"\n",
    "    SNR = 10**(SNR_dB[snr_index]/10)    #signal to noise ratio (linear)        \n",
    "    sigma2 = 1.0/SNR            #noise variance\n",
    "\n",
    "    Sigma_Z = sigma2 * identity(NN)\n",
    "\n",
    "    R = info_rate_opt(H,Sigma_Z)\n",
    "    RX['OPT'][snr_index] = R\n",
    "    #print 'R = %.2f' %(R)\n",
    "    \n",
    "    for rx in RX_LIST:\n",
    "        G_RX = rx_matrix(H, rx)\n",
    "        R = info_rate(G_RX,H,Sigma_Z)        \n",
    "        RX[rx][snr_index] = R\n",
    "        #print 'R = %.2f' %(R)"
   ]
  },
  {
   "cell_type": "code",
   "execution_count": null,
   "metadata": {},
   "outputs": [],
   "source": [
    "# Plot\n",
    "SNR = 10**(SNR_dB/10)\n",
    "R_SHANNON = log(1+SNR)\n",
    "line_style = {'OPT':'-','MMSE':'.-','ZF':'x-','MF':'+-'}\n",
    "for rx in ['OPT'] + RX_LIST:\n",
    "    plot(SNR_dB,RX[rx],line_style[rx],label=rx)\n",
    "xlabel('SNR (dB)')\n",
    "ylabel('Rate (nats/symbol)')\n",
    "legend(loc='upper left')"
   ]
  }
 ],
 "metadata": {
  "kernelspec": {
   "display_name": "Python 2",
   "language": "python",
   "name": "python2"
  },
  "language_info": {
   "codemirror_mode": {
    "name": "ipython",
    "version": 2
   },
   "file_extension": ".py",
   "mimetype": "text/x-python",
   "name": "python",
   "nbconvert_exporter": "python",
   "pygments_lexer": "ipython2",
   "version": "2.7.15"
  }
 },
 "nbformat": 4,
 "nbformat_minor": 1
}
